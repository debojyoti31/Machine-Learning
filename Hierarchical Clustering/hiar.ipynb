{
 "cells": [
  {
   "cell_type": "code",
   "execution_count": 1,
   "metadata": {},
   "outputs": [],
   "source": [
    "import random\n",
    "import matplotlib.pyplot as plt"
   ]
  },
  {
   "cell_type": "code",
   "execution_count": 2,
   "metadata": {},
   "outputs": [],
   "source": [
    "x = [(1,2),(2,1),(2,3),(4,1),(1,3),(2,4),(4,3),(3,3),(3,2),(10,12),(12,11),(12,13),(14,11),\n",
    "(11,13),(12,14),(14,13),(13,13),(13,12),(31,32),(32,31),(32,33),\n",
    "(34,31),(31,33),(32,34),(34,33),(33,33),(33,32)]"
   ]
  },
  {
   "cell_type": "code",
   "execution_count": 3,
   "metadata": {},
   "outputs": [],
   "source": [
    "# Calculate Distance between Two Data Points.\n",
    "def dist(x,y):\n",
    "    return (sum([(i - j) ** 2 for i, j in zip(x, y)]))**0.5"
   ]
  },
  {
   "cell_type": "code",
   "execution_count": 4,
   "metadata": {},
   "outputs": [],
   "source": [
    "# Calculate single_linkage Distance between Two Clusters.\n",
    "def single_linkage(cluster1,cluster2):\n",
    "    d = []\n",
    "    for i in cluster1:\n",
    "        for j in cluster2:\n",
    "            d.append(dist(i,j))\n",
    "    return(min(d))\n",
    "\n",
    "# Calculate complete_linkage Distance between Two Clusters.\n",
    "def complete_linkage(cluster1,cluster2):\n",
    "    d = []\n",
    "    for i in cluster1:\n",
    "        for j in cluster2:\n",
    "            d.append(dist(i,j))\n",
    "    return(max(d))\n",
    "\n",
    "# Calculate average_linkage Distance between Two Clusters.\n",
    "def average_linkage(cluster1,cluster2):\n",
    "    d = []\n",
    "    for i in cluster1:\n",
    "        for j in cluster2:\n",
    "            d.append(dist(i,j))\n",
    "    return(sum(d)/len(d))"
   ]
  },
  {
   "cell_type": "code",
   "execution_count": 5,
   "metadata": {},
   "outputs": [],
   "source": [
    "# Finding the Positions of the two closest clusters of a Cluster-Set.\n",
    "# Here we calculate the distances of all possible points one by one and update he minimum distance accordingly.\n",
    "# This is same as calculatig the wole distance matrix first and finding the minimum distance.\n",
    "\n",
    "def pos_closest (clusters, linkage):\n",
    "    # initialize min distance at positioon 1,0\n",
    "    min_dist = linkage(clusters[1],clusters[0])\n",
    "    min_pos = [1,0]\n",
    "    # now calcualte distance of all positions i,j i<j\n",
    "    for i in range(len(clusters)):\n",
    "        for j in range(len(clusters)):\n",
    "            if j<i:\n",
    "                # if pos i,j has less distance than previous\n",
    "                if linkage(clusters[i],clusters[j]) <= min_dist:\n",
    "                    # Set minimum distance at i,j\n",
    "                    min_dist = linkage(clusters[i],clusters[j])\n",
    "                    # update min_pos\n",
    "                    min_pos = [i,j]\n",
    "    return min_pos"
   ]
  },
  {
   "cell_type": "code",
   "execution_count": 6,
   "metadata": {},
   "outputs": [],
   "source": [
    "# Hierarchical Clustering Algorithm.\n",
    "# Instead of returning the whole dendogram, here I'm tryng to return the clusters for a specific No of Clusters.\n",
    "# Hierarchical Clustering(data_set, no of cluster, linkage type)\n",
    "\n",
    "\n",
    "def hiar(x,n_cluster,linkage):\n",
    "    # set iteration at 0\n",
    "    iter = 0\n",
    "    # at iteration 0 the no of cluster is same as no of data points in data set, and each data set is an individual cluster.\n",
    "    clusters = [ [i]  for i in x]\n",
    "    # now running the algo in loop untill no of clusters reduces to n_cluster\n",
    "    # in each iteration no of clusters decreases by 1\n",
    "    while iter < len(x)-n_cluster:\n",
    "        # Find the Positions of the two closest clusters in the previous Cluster-Set.\n",
    "        pos = pos_closest (clusters,linkage)\n",
    "        # initialize the new cluster set\n",
    "        new_clusters = []\n",
    "        # append all the clusters except the min distance clusters in the new cluster set.\n",
    "        for i in range(len(clusters)):\n",
    "            if i not in pos:\n",
    "                new_clusters.append(clusters[i])\n",
    "        # now concatenate the min distance clusters into a single cluster and append to new cluster set.\n",
    "        new_clusters.append(clusters[pos[0]]+clusters[pos[1]])\n",
    "        # set the new cluster as the old one\n",
    "        clusters = new_clusters           \n",
    "        # and update the iter value\n",
    "        iter = iter + 1\n",
    "    # return the newest cluster which contains exactly n_cluster cluster sets.\n",
    "    return clusters"
   ]
  },
  {
   "cell_type": "code",
   "execution_count": 7,
   "metadata": {},
   "outputs": [
    {
     "data": {
      "image/png": "[encoded data removed]",
      "text/plain": [
       "<Figure size 432x288 with 1 Axes>"
      ]
     },
     "metadata": {
      "needs_background": "light"
     },
     "output_type": "display_data"
    }
   ],
   "source": [
    "# applying Hierarchical Clustering Algorithm with single_linkage on IRIS Dataset.\n",
    "\n",
    "z1 = hiar(x,3,single_linkage)\n",
    "labels=['cluster1','cluster2','cluster3','cluster4']\n",
    "color=['red','green','blue','cyan']\n",
    "i = 0\n",
    "for v in z1:\n",
    "    plt.scatter(*zip(*v),c=color[i],label=labels[i])\n",
    "    i = i+1\n",
    "plt.xlabel('x')\n",
    "plt.ylabel('y')\n",
    "plt.legend()\n",
    "plt.show()"
   ]
  },
  {
   "cell_type": "code",
   "execution_count": 8,
   "metadata": {},
   "outputs": [
    {
     "data": {
      "image/png": "[encoded data removed]",
      "text/plain": [
       "<Figure size 432x288 with 1 Axes>"
      ]
     },
     "metadata": {
      "needs_background": "light"
     },
     "output_type": "display_data"
    }
   ],
   "source": [
    "# applying Hierarchical Clustering Algorithm with complete_linkage on IRIS Dataset.\n",
    "\n",
    "z2 = hiar(x,3,complete_linkage)\n",
    "labels=['cluster1','cluster2','cluster3','cluster4']\n",
    "color=['red','green','blue','cyan']\n",
    "i = 0\n",
    "for v in z2:\n",
    "    plt.scatter(*zip(*v),c=color[i],label=labels[i])\n",
    "    i = i+1\n",
    "plt.xlabel('x')\n",
    "plt.ylabel('y')\n",
    "plt.legend()\n",
    "plt.show()"
   ]
  },
  {
   "cell_type": "code",
   "execution_count": 9,
   "metadata": {},
   "outputs": [
    {
     "data": {
      "image/png": "[encoded data removed]",
      "text/plain": [
       "<Figure size 432x288 with 1 Axes>"
      ]
     },
     "metadata": {
      "needs_background": "light"
     },
     "output_type": "display_data"
    }
   ],
   "source": [
    "# applying Hierarchical Clustering Algorithm with average_linkage on IRIS Dataset.\n",
    "\n",
    "z3 = hiar(x,3,average_linkage)\n",
    "labels=['cluster1','cluster2','cluster3','cluster4']\n",
    "color=['red','green','blue','cyan']\n",
    "i = 0\n",
    "for v in z3:\n",
    "    plt.scatter(*zip(*v),c=color[i],label=labels[i])\n",
    "    i = i+1\n",
    "plt.xlabel('x')\n",
    "plt.ylabel('y')\n",
    "plt.legend()\n",
    "plt.show()"
   ]
  }
 ],
 "metadata": {
  "kernelspec": {
   "display_name": "Python 3.10.6 64-bit",
   "language": "python",
   "name": "python3"
  },
  "language_info": {
   "codemirror_mode": {
    "name": "ipython",
    "version": 3
   },
   "file_extension": ".py",
   "mimetype": "text/x-python",
   "name": "python",
   "nbconvert_exporter": "python",
   "pygments_lexer": "ipython3",
   "version": "3.10.6"
  },
  "orig_nbformat": 4,
  "vscode": {
   "interpreter": {
    "hash": "31f2aee4e71d21fbe5cf8b01ff0e069b9275f58929596ceb00d14d90e3e16cd6"
   }
  }
 },
 "nbformat": 4,
 "nbformat_minor": 2
}
